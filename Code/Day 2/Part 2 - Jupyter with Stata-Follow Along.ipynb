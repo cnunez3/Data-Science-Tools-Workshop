{
 "cells": [
  {
   "cell_type": "markdown",
   "id": "c9c69282",
   "metadata": {},
   "source": [
    "# <div align=\"center\">Dynamic Documents - Jupyter</div>\n",
    "## <div align=\"center\">Part 2 - Stata</div>\n",
    "## <div align=\"center\">Data Science Tools Workshop</div>\n",
    "\n",
    "### <div align=\"center\">Fabien Forge</div>\n",
    "\n",
    "#### <div align=\"center\">15/10/2021</div>"
   ]
  },
  {
   "cell_type": "markdown",
   "id": "73490ea6",
   "metadata": {},
   "source": [
    "Install `stata-setup`"
   ]
  },
  {
   "cell_type": "code",
   "execution_count": null,
   "id": "a25c3f3f",
   "metadata": {},
   "outputs": [],
   "source": []
  },
  {
   "cell_type": "markdown",
   "id": "77a101fd",
   "metadata": {},
   "source": [
    "* You can either create a dedicated **[Kernel](https://github.com/jupyter/jupyter/wiki/Jupyter-kernels)** (see [stata_kernel](https://kylebarron.dev/stata_kernel/getting_started/) for any Stata)\n",
    "\n",
    "* Or call you favorite language from a Python session (see [IPyStata](https://github.com/TiesdeKok/ipystata) for Stata<17 or [Stata-Setup](https://www.stata.com/new-in-stata/jupyter-notebooks/))"
   ]
  },
  {
   "cell_type": "markdown",
   "id": "39c44d7d",
   "metadata": {},
   "source": [
    "import `stata_setup`\n",
    "\n",
    "Set the path to where your Stata is"
   ]
  },
  {
   "cell_type": "code",
   "execution_count": null,
   "id": "9eb72c0d",
   "metadata": {},
   "outputs": [],
   "source": []
  },
  {
   "cell_type": "markdown",
   "id": "c5d3f2ba",
   "metadata": {},
   "source": [
    "## Call Stata using magic commands\n",
    "\n",
    "The stata magic is used to execute Stata commands in an IPython environment. In a notebook cell, we put Stata commands underneath the `%%stata` cell magic to direct the cell to call Stata. The following commands load the auto dataset and summarize the mpg variable. The Stata output is displayed underneath the cell."
   ]
  },
  {
   "cell_type": "markdown",
   "id": "8749f574",
   "metadata": {},
   "source": [
    "Use stata magix and use the auto data set to summarize `mpg`"
   ]
  },
  {
   "cell_type": "code",
   "execution_count": null,
   "id": "78c14e05",
   "metadata": {},
   "outputs": [],
   "source": []
  },
  {
   "cell_type": "markdown",
   "id": "b2ccaeea",
   "metadata": {},
   "source": [
    "You can use"
   ]
  },
  {
   "cell_type": "code",
   "execution_count": null,
   "id": "13fbdc48",
   "metadata": {},
   "outputs": [],
   "source": [
    "%%stata\n",
    "\n",
    "ds"
   ]
  },
  {
   "cell_type": "markdown",
   "id": "ea786965",
   "metadata": {},
   "source": [
    "Stata's graphs can also be displayed in the IPython environment. Here we create a scatterplot of car mileage against price by using the `%stata` line magic.\n",
    "\n"
   ]
  },
  {
   "cell_type": "markdown",
   "id": "f3c768d3",
   "metadata": {},
   "source": [
    "print Hi\n",
    "\n",
    "Then scatter mpg and price using `%stata` instead of `%%stata`"
   ]
  },
  {
   "cell_type": "code",
   "execution_count": null,
   "id": "2f2a974b",
   "metadata": {},
   "outputs": [],
   "source": [
    "\n"
   ]
  },
  {
   "cell_type": "markdown",
   "id": "786aab26",
   "metadata": {},
   "source": [
    "Next, we load Python data into Stata, perform analyses in Stata, and then pass Stata returned results to Python for further analysis, using the Second National Health and Nutrition Examination Survey (NHANES II; McDowell et al. 1981).\n",
    "\n",
    "NHANES II, a dataset concerning health and nutritional status of adults and children in the US, contains 10,351 observations and 58 variables and is stored in a CSV file called nhanes2.csv. Among hese variables is an indicator variable for hypertension (highbp) and the continuous variables age and weight.\n",
    "\n",
    "We use pandas method read_csv() to read the data from the .csv file into a pandas dataframe named nhanes2."
   ]
  },
  {
   "cell_type": "code",
   "execution_count": null,
   "id": "7b5da862",
   "metadata": {},
   "outputs": [],
   "source": []
  },
  {
   "cell_type": "markdown",
   "id": "2beb66dc",
   "metadata": {},
   "source": [
    "We load the dataframe into Stata by specifying the -d argument of the `%%stata magic`, and then within Stata, we fit a logistic regression model using age, weight, and their interaction as predictors of the probability of hypertension. \n",
    "\n",
    "We also push Stata's estimation results displayed by ereturn list, including the coefficient vector e(b) and variance–covariance matrix e(V), into a Python dictionary called myeret by specifying the -eret argument."
   ]
  },
  {
   "cell_type": "code",
   "execution_count": null,
   "id": "c7c4630c",
   "metadata": {},
   "outputs": [],
   "source": []
  },
  {
   "cell_type": "markdown",
   "id": "77322100",
   "metadata": {},
   "source": [
    "We can access e(b) and e(V) by typing myeret['e(b)'] and myeret['e(V)'], respectively, in Python. They are stored in NumPy arrays."
   ]
  },
  {
   "cell_type": "code",
   "execution_count": null,
   "id": "06d4a717",
   "metadata": {},
   "outputs": [],
   "source": []
  },
  {
   "cell_type": "code",
   "execution_count": null,
   "id": "1102183f",
   "metadata": {},
   "outputs": [],
   "source": []
  },
  {
   "cell_type": "markdown",
   "id": "3af5ecaf",
   "metadata": {},
   "source": [
    "We use [margins](https://www.stata.com/manuals/rmargins.pdf) and [marginsplot](https://www.stata.com/manuals/rmarginsplot.pdf) to graph predictions over age, which more clearly illustrates the relationship between age and the probability of hypertension."
   ]
  },
  {
   "cell_type": "code",
   "execution_count": null,
   "id": "4080009d",
   "metadata": {},
   "outputs": [],
   "source": []
  },
  {
   "cell_type": "markdown",
   "id": "2ebcabae",
   "metadata": {},
   "source": [
    "You can pass a data in memory in Stata to Python (Pandas) using -doutd"
   ]
  },
  {
   "cell_type": "code",
   "execution_count": null,
   "id": "f7cac632",
   "metadata": {},
   "outputs": [],
   "source": []
  },
  {
   "cell_type": "markdown",
   "id": "02421b3f",
   "metadata": {},
   "source": [
    "show the head of `df`"
   ]
  },
  {
   "cell_type": "code",
   "execution_count": null,
   "id": "26095f74",
   "metadata": {},
   "outputs": [],
   "source": []
  },
  {
   "cell_type": "markdown",
   "id": "d5a2b927",
   "metadata": {},
   "source": [
    "You can also do this without the `%%stata` magic by using `pystata`\n",
    "\n",
    "import also `seaborn` and `numpy`"
   ]
  },
  {
   "cell_type": "code",
   "execution_count": null,
   "id": "7dddfe2d",
   "metadata": {},
   "outputs": [],
   "source": []
  },
  {
   "cell_type": "code",
   "execution_count": null,
   "id": "f97302da",
   "metadata": {},
   "outputs": [],
   "source": []
  },
  {
   "cell_type": "markdown",
   "id": "26682ab8",
   "metadata": {},
   "source": [
    "Plot the relationship"
   ]
  },
  {
   "cell_type": "code",
   "execution_count": null,
   "id": "c87fadc0",
   "metadata": {},
   "outputs": [],
   "source": []
  },
  {
   "cell_type": "code",
   "execution_count": null,
   "id": "a64b6c03",
   "metadata": {},
   "outputs": [],
   "source": []
  },
  {
   "cell_type": "markdown",
   "id": "4fa78dc6",
   "metadata": {},
   "source": [
    "You can also pass a `Pandas` dataframe to `Stata` in order to say run regressions"
   ]
  },
  {
   "cell_type": "code",
   "execution_count": null,
   "id": "3da48061",
   "metadata": {},
   "outputs": [],
   "source": []
  },
  {
   "cell_type": "markdown",
   "id": "596c0cf7",
   "metadata": {},
   "source": [
    "Then we use the get_ereturn() method to store the e() results returned by the logistic command in Python as a dictionary named myeret2 and display e(b) and e(V) within it."
   ]
  },
  {
   "cell_type": "code",
   "execution_count": null,
   "id": "c2fd2237",
   "metadata": {},
   "outputs": [],
   "source": []
  },
  {
   "cell_type": "markdown",
   "id": "5326c715",
   "metadata": {},
   "source": [
    "You can even run entire do files"
   ]
  },
  {
   "cell_type": "code",
   "execution_count": null,
   "id": "25669f00",
   "metadata": {},
   "outputs": [],
   "source": []
  },
  {
   "cell_type": "markdown",
   "id": "b7fd3e10",
   "metadata": {},
   "source": [
    "Or call dofiles"
   ]
  },
  {
   "cell_type": "code",
   "execution_count": null,
   "id": "fade6536",
   "metadata": {
    "scrolled": false
   },
   "outputs": [],
   "source": [
    "stata.run('''\n",
    "do reg_nhanes2\n",
    "''')"
   ]
  }
 ],
 "metadata": {
  "kernelspec": {
   "display_name": "Python 3",
   "language": "python",
   "name": "python3"
  },
  "language_info": {
   "codemirror_mode": {
    "name": "ipython",
    "version": 3
   },
   "file_extension": ".py",
   "mimetype": "text/x-python",
   "name": "python",
   "nbconvert_exporter": "python",
   "pygments_lexer": "ipython3",
   "version": "3.8.8"
  }
 },
 "nbformat": 4,
 "nbformat_minor": 5
}
